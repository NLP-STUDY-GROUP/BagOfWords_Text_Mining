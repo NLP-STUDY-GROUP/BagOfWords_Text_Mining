{
  "cells": [
    {
      "cell_type": "markdown",
      "metadata": {
        "id": "mRKqg_xYRJVA"
      },
      "source": [
        "# Chapter 5. BOW 기반의 문서 분류\n",
        "* 문서 분류: 주어진 문서에 대해 미리 정의된 클래스로 분류하는 작업 \n",
        "* 분류: 지도학습에 속하며 로지스틱 회귀분석을 비롯해 결정트리, 나이브 베이즈, SVM 등 다양한 머신러닝 방법론들이 존재 \n",
        "    * 로지스틱 회귀분석 \n",
        "    * 결정트리 \n",
        "    * 나이브 베이즈 : 특히 텍스트 분류에 특화\n",
        "    * SVM  \n"
      ]
    },
    {
      "cell_type": "markdown",
      "metadata": {
        "id": "3xRdYE-TRJVL"
      },
      "source": [
        "## 01. 20 뉴스그룹 데이터 준비 및 특성 추출\n",
        "\n",
        "*  http://scikit-learn.org/0.19/datasets/twenty_newsgroups.html\n",
        "* 문서 분류의 성능을 측정하기 위해 가장 많이 사용되는 데이터셋 중 하나 \n",
        "* 유스넷\n",
        "    * 인터넷에서 이메일과 함께 가장 많이 사용된 서비스 중 하나로 일종의 게시판\n",
        "    * 여러 뉴스 서버가 있고, 사용자는 이 중 한 서버에 접속해서 하나 이상의 뉴스그룹을 구독 \n",
        "    * 뉴슥그룹마다 특정 주제가 있으며, 사용자는 그에 맞는 뉴스를 올리거나 읽음 "
      ]
    },
    {
      "cell_type": "code",
      "source": [
        "from google.colab import drive\n",
        "drive.mount('/content/drive/')"
      ],
      "metadata": {
        "colab": {
          "base_uri": "https://localhost:8080/"
        },
        "id": "s4yUqi2KRa6b",
        "outputId": "aa8dd9dd-a1cf-4dae-cb6b-d4a8dc8dc548"
      },
      "execution_count": 4,
      "outputs": [
        {
          "output_type": "stream",
          "name": "stdout",
          "text": [
            "Mounted at /content/drive/\n"
          ]
        }
      ]
    },
    {
      "cell_type": "code",
      "source": [
        "pwd()"
      ],
      "metadata": {
        "colab": {
          "base_uri": "https://localhost:8080/",
          "height": 35
        },
        "id": "Cnh_ASwhRcbP",
        "outputId": "3e3975b9-17fe-445b-89a2-b636c8217270"
      },
      "execution_count": 5,
      "outputs": [
        {
          "output_type": "execute_result",
          "data": {
            "text/plain": [
              "'/content'"
            ],
            "application/vnd.google.colaboratory.intrinsic+json": {
              "type": "string"
            }
          },
          "metadata": {},
          "execution_count": 5
        }
      ]
    },
    {
      "cell_type": "code",
      "execution_count": 6,
      "metadata": {
        "id": "8-yQJUG5RJVM"
      },
      "outputs": [],
      "source": [
        "import os\n",
        "os.chdir('./drive/MyDrive')"
      ]
    },
    {
      "cell_type": "code",
      "source": [
        "!pip install sklearn "
      ],
      "metadata": {
        "colab": {
          "base_uri": "https://localhost:8080/"
        },
        "id": "ardT-yteR0j7",
        "outputId": "cdc605f8-c19c-48e3-95ca-554e34d2ee44"
      },
      "execution_count": 7,
      "outputs": [
        {
          "output_type": "stream",
          "name": "stdout",
          "text": [
            "Requirement already satisfied: sklearn in /usr/local/lib/python3.7/dist-packages (0.0)\n",
            "Requirement already satisfied: scikit-learn in /usr/local/lib/python3.7/dist-packages (from sklearn) (1.0.2)\n",
            "Requirement already satisfied: threadpoolctl>=2.0.0 in /usr/local/lib/python3.7/dist-packages (from scikit-learn->sklearn) (3.1.0)\n",
            "Requirement already satisfied: scipy>=1.1.0 in /usr/local/lib/python3.7/dist-packages (from scikit-learn->sklearn) (1.4.1)\n",
            "Requirement already satisfied: joblib>=0.11 in /usr/local/lib/python3.7/dist-packages (from scikit-learn->sklearn) (1.1.0)\n",
            "Requirement already satisfied: numpy>=1.14.6 in /usr/local/lib/python3.7/dist-packages (from scikit-learn->sklearn) (1.21.6)\n"
          ]
        }
      ]
    },
    {
      "cell_type": "code",
      "source": [
        "!pip install konlpy"
      ],
      "metadata": {
        "colab": {
          "base_uri": "https://localhost:8080/"
        },
        "id": "c-HDmX9nR3S-",
        "outputId": "ab2d92db-957b-45ee-809d-e8690ec0283e"
      },
      "execution_count": 8,
      "outputs": [
        {
          "output_type": "stream",
          "name": "stdout",
          "text": [
            "Collecting konlpy\n",
            "  Downloading konlpy-0.6.0-py2.py3-none-any.whl (19.4 MB)\n",
            "\u001b[K     |████████████████████████████████| 19.4 MB 3.6 MB/s \n",
            "\u001b[?25hRequirement already satisfied: lxml>=4.1.0 in /usr/local/lib/python3.7/dist-packages (from konlpy) (4.2.6)\n",
            "Collecting JPype1>=0.7.0\n",
            "  Downloading JPype1-1.3.0-cp37-cp37m-manylinux_2_5_x86_64.manylinux1_x86_64.whl (448 kB)\n",
            "\u001b[K     |████████████████████████████████| 448 kB 58.8 MB/s \n",
            "\u001b[?25hRequirement already satisfied: numpy>=1.6 in /usr/local/lib/python3.7/dist-packages (from konlpy) (1.21.6)\n",
            "Requirement already satisfied: typing-extensions in /usr/local/lib/python3.7/dist-packages (from JPype1>=0.7.0->konlpy) (4.2.0)\n",
            "Installing collected packages: JPype1, konlpy\n",
            "Successfully installed JPype1-1.3.0 konlpy-0.6.0\n"
          ]
        }
      ]
    },
    {
      "cell_type": "code",
      "source": [
        "!pip install nltk"
      ],
      "metadata": {
        "colab": {
          "base_uri": "https://localhost:8080/"
        },
        "id": "fC95H2KTR-5L",
        "outputId": "e80e42c3-7e87-4f60-a737-07e82bd5a4e5"
      },
      "execution_count": 10,
      "outputs": [
        {
          "output_type": "stream",
          "name": "stdout",
          "text": [
            "Requirement already satisfied: nltk in /usr/local/lib/python3.7/dist-packages (3.2.5)\n",
            "Requirement already satisfied: six in /usr/local/lib/python3.7/dist-packages (from nltk) (1.15.0)\n"
          ]
        }
      ]
    },
    {
      "cell_type": "code",
      "source": [
        "import nltk \n",
        "nltk.download('stopwords')"
      ],
      "metadata": {
        "colab": {
          "base_uri": "https://localhost:8080/"
        },
        "id": "L2lE67lpR4-W",
        "outputId": "e14b8d5e-9288-4f5e-b219-2743c407b529"
      },
      "execution_count": 11,
      "outputs": [
        {
          "output_type": "stream",
          "name": "stdout",
          "text": [
            "[nltk_data] Downloading package stopwords to /root/nltk_data...\n",
            "[nltk_data]   Unzipping corpora/stopwords.zip.\n"
          ]
        },
        {
          "output_type": "execute_result",
          "data": {
            "text/plain": [
              "True"
            ]
          },
          "metadata": {},
          "execution_count": 11
        }
      ]
    },
    {
      "cell_type": "code",
      "execution_count": 12,
      "metadata": {
        "colab": {
          "base_uri": "https://localhost:8080/"
        },
        "id": "Br_EHNjfRJVP",
        "outputId": "bd63d063-3df5-4c66-86cc-d69c2ce19c11"
      },
      "outputs": [
        {
          "output_type": "stream",
          "name": "stdout",
          "text": [
            "#Train set size: 2034\n",
            "#Test set size: 1353\n",
            "#Selected categories: ['alt.atheism', 'comp.graphics', 'sci.space', 'talk.religion.misc']\n",
            "#Train labels: {0, 1, 2, 3}\n"
          ]
        }
      ],
      "source": [
        "#----------------------------------------\n",
        "# 5.1.1 데이터셋 확인 및 분리 \n",
        "\n",
        "# 20 뉴스 그룹 \n",
        "    # Ken Lang 연구자가 수집한 자료 \n",
        "    # 20,000 뉴스 그룹 문서로 이뤄져 있음 \n",
        "    # scikit-learn 에서 sklearn.datasets.fetch_20newsgroups 모듈 통해 \n",
        "    # 20 개 토픽/ 분류에 속한 18,000개의 문서를 다운받을 수 있도록 지원 \n",
        "    \n",
        "    # 특징 \n",
        "        # categories 매개변수를 이용해 20개의 topic 중 원하는 토픽 선택할 수 있음 \n",
        "        # remove 로 필요 없는 데이터를 삭제할 수 있음 \n",
        "        # 각 데이터셋 내에서, .data는 텍스트의 내용, .target 은 숫자로 표시된 라벨(분류)를 가져오는 데 사용   \n",
        "\n",
        "# Data set \n",
        "    # 보통 하나의 데이터셋을 랜덤하게 분리, 두 데이터셋을 구성 (train, test)\n",
        "    # 사이킷런, 학습 데이터셋, 평가 데이터셋이 미리 분리돼 있어 서로 다른 기법의 성능을 공정하게 비교 \n",
        "    # train dataset - 학습 데이터셋\n",
        "        # 학습모형을 만들 때 사용\n",
        "        #    \n",
        "    # test dataset - 평가 데이터셋 \n",
        "        # 만들어진 학습모형을 평가하는 데 씀 \n",
        "\n",
        "# headersm footers에 종종 토픽의 이름이 쓰여 있는 경우가 있어 힌트를 배제하기 위해 remove 로 제거 \n",
        "# subsset 매개변수: 학습, 평가 데이터셋 구분하는데 씀 \n",
        "# 각 데이터셋의 크기, 라벨 이름, 실젯값 정보 출력 \n",
        "#----------------------------------------\n",
        "from sklearn.datasets import fetch_20newsgroups\n",
        "\n",
        "#20개의 토픽 중 선택하고자 하는 토픽을 리스트로 생성\n",
        "categories = ['alt.atheism', 'talk.religion.misc', 'comp.graphics', 'sci.space']\n",
        "\n",
        "#학습 데이터셋을 가져옴\n",
        "newsgroups_train = fetch_20newsgroups(subset='train',  \n",
        "#메일 내용에서 hint가 되는 부분을 삭제 - 순수하게 내용만으로 분류\n",
        "                                      remove=('headers', 'footers', 'quotes'),\n",
        "                                      categories=categories)\n",
        "#검증 데이터셋을 가져옴\n",
        "newsgroups_test = fetch_20newsgroups(subset='test', \n",
        "                                     remove=('headers', 'footers', 'quotes'),\n",
        "                                     categories=categories)\n",
        "\n",
        "print('#Train set size:', len(newsgroups_train.data))\n",
        "print('#Test set size:', len(newsgroups_test.data))\n",
        "print('#Selected categories:', newsgroups_train.target_names)\n",
        "print('#Train labels:', set(newsgroups_train.target)) # 0,1,2,3 "
      ]
    },
    {
      "cell_type": "code",
      "execution_count": 13,
      "metadata": {
        "colab": {
          "base_uri": "https://localhost:8080/"
        },
        "id": "EvAX8NKaRJVR",
        "outputId": "75c62e1a-6aa6-4059-8045-1851133adf64"
      },
      "outputs": [
        {
          "output_type": "stream",
          "name": "stdout",
          "text": [
            "#Train set text samples: Hi,\n",
            "\n",
            "I've noticed that if you only save a model (with all your mapping planes\n",
            "positioned carefully) to a .3DS file that when you reload it after restarting\n",
            "3DS, they are given a default position and orientation.  But if you save\n",
            "to a .PRJ file their positions/orientation are preserved.  Does anyone\n",
            "know why this information is not stored in the .3DS file?  Nothing is\n",
            "explicitly said in the manual about saving texture rules in the .PRJ file. \n",
            "I'd like to be able to read the texture rule information, does anyone have \n",
            "the format for the .PRJ file?\n",
            "\n",
            "Is the .CEL file format available from somewhere?\n",
            "\n",
            "Rych\n",
            "#Train set label smaples: 1\n",
            "#Test set text samples: TRry the SKywatch project in  Arizona.\n",
            "#Test set label smaples: 2\n"
          ]
        }
      ],
      "source": [
        "# 학습/평가 데이터 \n",
        "    # .data : 문서의 (본문)\n",
        "    # .target : 라벨(토픽)\n",
        "        # newsgroups_train.target_names : 토픽(라벨) 값 들어 있음\n",
        "        # 카테고리: 문자열로 된 원래의 값 \n",
        "            # [alt.atheism, comp.graphics, sci.spcae, talk.religion.misc]\n",
        "        # 라벨: 이를 숫자로 변환한 값 \n",
        "            # [0,1,2,3]\n",
        "        # 해당 순서에 따라 target의 숫자가 정해짐 \n",
        "\n",
        "\n",
        "print('#Train set text samples:', newsgroups_train.data[0])\n",
        "print('#Train set label smaples:', newsgroups_train.target[0])\n",
        "print('#Test set text samples:', newsgroups_test.data[0])\n",
        "print('#Test set label smaples:', newsgroups_test.target[0])"
      ]
    },
    {
      "cell_type": "code",
      "execution_count": 14,
      "metadata": {
        "colab": {
          "base_uri": "https://localhost:8080/"
        },
        "id": "cIg0onz8RJVU",
        "outputId": "a74b8c80-cb45-4ca3-e43d-934b7b25ce9f"
      },
      "outputs": [
        {
          "output_type": "stream",
          "name": "stdout",
          "text": [
            "Train set dimension: (2034, 2000)\n",
            "Test set dimension: (1353, 2000)\n"
          ]
        }
      ],
      "source": [
        "#----------------------------------------\n",
        "# 5.1.2 카운트 기반 특성 추출 \n",
        "# newsgroups_train, newssgroup_test  - .data, .target 이용 \n",
        "# X_train, X_test, y_train, y_test 추출 \n",
        "# 특성 추출을 한 후에 실제로 문서 분류를 수행 \n",
        "#----------------------------------------\n",
        "\n",
        "X_train = newsgroups_train.data   #학습 데이터셋 문서\n",
        "y_train = newsgroups_train.target #학습 데이터셋 라벨\n",
        "\n",
        "X_test = newsgroups_test.data     #검증 데이터셋 문서\n",
        "y_test = newsgroups_test.target   #검증 데이터셋 라벨\n",
        "\n",
        "from sklearn.feature_extraction.text import CountVectorizer\n",
        "\n",
        "# CountVectorizer 객체 생성\n",
        "    # max_feature: \n",
        "        # 특성의 수 2,000개로 제한 \n",
        "    # min_df: \n",
        "        # minimum document frequency\n",
        "        # 단어가 최소 이 개수만큼의 문서에 나타나야 한다는 것을 의미 \n",
        "        # 어떤 단어가 문서에서 거의 쓰이지 않는다는 것은 매우 예외적인 가능성이 있음 \n",
        "        # 따라서, 5개 미만의 문서에서 나타나는 단어는 특성에서 제외 \n",
        "        # min_df 효과를 확인하려면, max_feature를 제한하지 않고 min_df를 조절하여 특성의 수 확인하면 됨 \n",
        "        # min_df가 클수록, 생성된 특성의 수는 적어짐\n",
        "    # max_df \n",
        "        # 많은 문서에서 공통으로 나타나는 단어를 제외하기 위해 사용 \n",
        "        # 여기서는 0,5로 문서의 50%를 초과해 나타나는 단어들을 제외      \n",
        "# fit() 함수 호출: 학습 수행 \n",
        "\n",
        "cv = CountVectorizer(max_features=2000, min_df=5, max_df=0.5)\n",
        "\n",
        "X_train_cv = cv.fit_transform(X_train) # train set을 변환\n",
        "print('Train set dimension:', X_train_cv.shape) \n",
        "X_test_cv = cv.transform(X_test) # test set을 변환\n",
        "print('Test set dimension:', X_test_cv.shape)"
      ]
    },
    {
      "cell_type": "code",
      "execution_count": 15,
      "metadata": {
        "colab": {
          "base_uri": "https://localhost:8080/"
        },
        "id": "WApPOvNqRJVV",
        "outputId": "1c682aa7-4749-41d1-9593-c5d9a515a443"
      },
      "outputs": [
        {
          "output_type": "stream",
          "name": "stdout",
          "text": [
            "00 : 0, 000 : 0, 01 : 0, 04 : 0, 05 : 0, 10 : 0, 100 : 0, 1000 : 0, 11 : 0, 12 : 0, 128 : 0, 129 : 0, 13 : 0, 130 : 0, 14 : 0, 15 : 0, 16 : 0, 17 : 0, 18 : 0, 19 : 0, 1987 : 0, 1988 : 0, 1989 : 0, 1990 : 0, 1991 : 0, 1992 : 0, 1993 : 0, 20 : 0, 200 : 0, 202 : 0, 21 : 0, 22 : 0, 23 : 0, 24 : 0, 25 : 0, 256 : 0, 26 : 0, 27 : 0, 28 : 0, 2d : 0, 30 : 0, 300 : 0, 31 : 0, 32 : 0, 33 : 0, 34 : 0, 35 : 0, 39 : 0, 3d : 0, 40 : 0, 400 : 0, 42 : 0, 45 : 0, 50 : 0, 500 : 0, 60 : 0, 600 : 0, 65 : 0, 70 : 0, 75 : 0, 80 : 0, 800 : 0, 90 : 0, 900 : 0, 91 : 0, 92 : 0, 93 : 0, 95 : 0, _the : 0, ability : 0, able : 1, abortion : 0, about : 1, above : 0, absolute : 0, absolutely : 0, ac : 0, accept : 0, acceptable : 0, accepted : 0, access : 0, according : 0, account : 0, accurate : 0, across : 0, act : 0, action : 0, actions : 0, active : 0, activities : 0, activity : 0, acts : 0, actual : 0, actually : 0, ad : 0, add : 0, added : 0, addition : 0, additional : 0, address : 0, "
          ]
        }
      ],
      "source": [
        "# 어떤 단어들이 얼마나 있는지 확인\n",
        "for word, count in zip(cv.get_feature_names_out()[:100], X_train_cv[0].toarray()[0, :100]):\n",
        "    print(word, ':', count, end=', ')\n",
        "\n",
        "# 의미 없는 숫자가 많이 보임 \n",
        "# activities, activity 처럼 정규화되지 않은 결과 \n",
        "# an, as 와 같이 별 의미 없는 단어들 퐇마 \n",
        "# --> 제거 "
      ]
    },
    {
      "cell_type": "markdown",
      "metadata": {
        "id": "FUcp5F71RJVW"
      },
      "source": [
        "## 02. 머신러닝과 문서 분류 과정에 대한 이해\n",
        "\n",
        "* 기계학습 \n",
        "    * 지도학습 \n",
        "        * 회귀, 분류\n",
        "        * 문서 분류: 지도학습 중 하나인 분류 사용 \n",
        "            * 나이브 베이즈\n",
        "            * 로지스틱 회귀분석 \n",
        "                * 릿지 회귀\n",
        "                * 라쏘 회귀\n",
        "            * 결정트리\n",
        "            * 그레이디언트 부스팅 \n",
        "            * SVM\n",
        "            * 인공신경망 \n",
        "    * 비지도학습\n",
        "        * 클러스터링, 차원축소 \n",
        "    * 강화학습 \n",
        "\n",
        "\n",
        "* 머신러닝을 이용한 문서 분류 과정 \n",
        "    * 1. 데이터 정제, 전처리 \n",
        "        * 2장의 텍스트 전처리 과정\n",
        "        * 대상 말뭉치를 특성 데이터로 변환 \n",
        "    * 2. 데이터 분리 \n",
        "        * 대상 데이터를 학습, 평가 데이터로 분리, 모형에 대한 평가 \n",
        "        * 평가 데이터: 모형의 일반화 성능 평가 \n",
        "            * 과적합(주어진 데이터에 지나친 학습)되는 경우 방지, 새로운 데이터에 예측할 수 있도록 함 \n",
        "            * 모형 평가를 위해 사용되지 않은 데이터로 일반화 성능을 평가 \n",
        "    * 3. 머신러닝 학습 \n",
        "        * 학습 데이터에 대해 머신러닝 알고리즘 적용, 예측모형 얻음 \n",
        "    * 4. 평가\n",
        "        * 학습된 예측모형에 대해 평가 데이터 이용해 평가 실시\n",
        "            * 정확도(accuracy)가 평가 지표로 많이 사용됨 \n",
        "            * 올바르게 예측한 데이터의 수/ 전체 데이터 수 \n",
        "            * 실제lable/예측label 비교 \n",
        "    * 5. 최종 모형 도출 \n",
        "        * 평가를 통해 최적의 최종 모형을 도출 \n",
        "    * 6. 예측 \n",
        "        * 실제 문제에 대해 예측 모형을 적용\n",
        "        * 실제 텍스트에 대해 1단계와 동일한 전처리,특성 데이터 추출, 최종 모형으로 문서 분류   \n"
      ]
    },
    {
      "cell_type": "code",
      "execution_count": 22,
      "metadata": {
        "colab": {
          "base_uri": "https://localhost:8080/",
          "height": 299
        },
        "id": "mMiJrT9qRJVX",
        "outputId": "9d72da6e-3f82-46b5-cb12-c427b34036fc"
      },
      "outputs": [
        {
          "output_type": "execute_result",
          "data": {
            "text/plain": [
              "<IPython.core.display.Image object>"
            ],
            "image/png": "[encoded data removed]"
          },
          "metadata": {},
          "execution_count": 22
        }
      ],
      "source": [
        "from IPython.display import Image\n",
        "# Image(filename= './img/ch5/문서분류.PNG')\n",
        "Image(filename= '문서분류.PNG')"
      ]
    },
    {
      "cell_type": "markdown",
      "metadata": {
        "id": "z93Y58T6RJVY"
      },
      "source": [
        "## 3. 나이브 베이즈 분류기(Naive Bayse Classifier)를 이용한 문서 분류\n",
        "\n",
        "1. http://scikit-learn.org/stable/modules/generated/sklearn.naive_bayes.MultinomialNB.html\n",
        "\n",
        "* 나이브 베이즈 모델 \n",
        "    * 각 분류에 속한 기사들의 수를 이용해 사전 확률을 계산\n",
        "        * ex. 학습 데이터셋 분포, 경제 기사 5개 중 3개, 과학 기사 5개 중 2개 \n",
        "            * 경제기사 사전 확률: 3/5\n",
        "            * 과학기사 사전 확률: 2/5 \n",
        "    * 특성을 고려해 이를 더 정확한 확률로 바꿈\n",
        "        * 학습 데이터셋 통해 어떤 단어가 경제 기사에서 더 많이 나오는지 파악\n",
        "            * ex. 인플레이션 -> 경제 기사 \n",
        "        * 새로운 기사에 나온 단어들이 각각 어떤 확률로 경제 관련 기사와 과학 기사에 나오는지 계산 \n",
        "        * 확률을 잘 결합하여, 새로운 기사가 어느 분류에 속하는지 분류 "
      ]
    },
    {
      "cell_type": "code",
      "execution_count": 23,
      "metadata": {
        "colab": {
          "base_uri": "https://localhost:8080/"
        },
        "id": "GulKkFZrRJVZ",
        "outputId": "1b0d1b31-d2a1-42b8-9d6f-8a1068ecf8ae"
      },
      "outputs": [
        {
          "output_type": "stream",
          "name": "stdout",
          "text": [
            "Train set score: 0.824\n",
            "Test set score: 0.732\n"
          ]
        }
      ],
      "source": [
        "#----------------------------------------\n",
        "# Mutinomial NB를 이용해 20 뉴스그룹 기사들을 분류 \n",
        "\n",
        "# sklearn.naive_bayes (*나이브 베이즈를 위한 클래스)\n",
        "    # MultinomialNB\n",
        "        # 이산적인 특성 값들을 이용해 분류 \n",
        "        # ex. 이산형 값) 카운트 벡터\n",
        "        # but, TF-IDF와 같은 연속적 값에서도 잘 작동 \n",
        "    # BernouliNB\n",
        "        # 특성 값이 이진 값일때 주로 사용 \n",
        "\n",
        "# 과정\n",
        "    # MultinomialNB를 불러와서 객체 생성 \n",
        "    # 학습 (fit)\n",
        "        # 특성 데이터와 라벨을 이용해 학습 \n",
        "            # X_train_cv:  카운트 벡터로 추출된 특성 \n",
        "            # y_Train: 해당 문서에 대한 분류 \n",
        "    #  학습/평가 데이터셋에 대해 정확도 계산 \n",
        "        # Score()\n",
        "            # 정확도 반환\n",
        "            # 예측을 위한 특성값, 라벨 모두 필요 -> 모두 인자로 전달 \n",
        "#----------------------------------------\n",
        "from sklearn.naive_bayes import MultinomialNB #sklearn이 제공하는 MultinomialNB 를 사용\n",
        "NB_clf = MultinomialNB() # 분류기 선언\n",
        "\n",
        "NB_clf.fit(X_train_cv, y_train) #train set을 이용하여 분류기(classifier)를 학습\n",
        "\n",
        "print('Train set score: {:.3f}'.format(NB_clf.score(X_train_cv, y_train))) #train set에 대한 예측정확도를 확인\n",
        "print('Test set score: {:.3f}'.format(NB_clf.score(X_test_cv, y_test))) #test set에 대한 예측정확도를 확인\n",
        "\n",
        "# Train set score > Test set score \n",
        "# 두 값의 차이가 크다면 과적합: 학습 데이터에 과하게 학습되어 일반화 성능이 떨어지는 경우"
      ]
    },
    {
      "cell_type": "code",
      "execution_count": 24,
      "metadata": {
        "colab": {
          "base_uri": "https://localhost:8080/"
        },
        "id": "-tzICGo8RJVZ",
        "outputId": "14d3985d-abca-4b38-dd0b-3236617a4dad"
      },
      "outputs": [
        {
          "output_type": "stream",
          "name": "stdout",
          "text": [
            "#First document and label in test data: TRry the SKywatch project in  Arizona. 2\n",
            "#Second document and label in test data: The Vatican library recently made a tour of the US.\n",
            " Can anyone help me in finding a FTP site where this collection is \n",
            " available. 1\n",
            "#Predicted labels: [2 1]\n",
            "#Predicted categories: sci.space comp.graphics\n"
          ]
        }
      ],
      "source": [
        "#----------------------------------------\n",
        "# predict()\n",
        "    # 주어진 텍스트에 대해 분류를 예측\n",
        "    # 예측에는 라벨값 필요 X, 특성 값만 인수로 전달 \n",
        "    # 결과: 숫자 \n",
        "    # 실제 카테고리: newsgroups_train.target_names 를 이용  \n",
        "#----------------------------------------\n",
        "\n",
        "print('#First document and label in test data:', X_test[0], y_test[0])\n",
        "print('#Second document and label in test data:', X_test[1], y_test[1])\n",
        "\n",
        "pred = NB_clf.predict(X_test_cv[:2])\n",
        "\n",
        "print('#Predicted labels:', pred)\n",
        "print('#Predicted categories:', newsgroups_train.target_names[pred[0]], newsgroups_train.target_names[pred[1]])\n",
        " \n",
        "# 결과 개선\n",
        "    # 1. CountVectorizer , max_features, min_df, max_df 등 매개변수 변경 \n",
        "    # 2. MultinomialNB 매개변수 조절 \n",
        "        # alpha: 모델의 복잡도를 조절 \n",
        "        # alpha 증가: 통계 데이터 완만, 복잡도가 낮아짐 \n",
        "    # 3. 나이브 베이즈 외의 다른 머신러닝 알고리즘 시도 \n",
        "    # 4. TfidfVectorizer 사용 "
      ]
    },
    {
      "cell_type": "code",
      "execution_count": 25,
      "metadata": {
        "colab": {
          "base_uri": "https://localhost:8080/"
        },
        "id": "Bbdb4EjGRJVa",
        "outputId": "4e565b20-3a38-43f2-d384-d700bf06eef8"
      },
      "outputs": [
        {
          "output_type": "stream",
          "name": "stdout",
          "text": [
            "Train set score: 0.862\n",
            "Test set score: 0.741\n"
          ]
        }
      ],
      "source": [
        "from sklearn.feature_extraction.text import TfidfVectorizer\n",
        "\n",
        "#CountVectorizer와 동일한 인수를 사용\n",
        "tfidf = TfidfVectorizer(max_features=2000, min_df=5, max_df=0.5) \n",
        "X_train_tfidf = tfidf.fit_transform(X_train) # train set을 변환\n",
        "X_test_tfidf = tfidf.transform(X_test) # test set을 변환\n",
        "\n",
        "NB_clf.fit(X_train_tfidf, y_train) #tfidf train set을 이용하여 분류기(classifier)를 새로 학습\n",
        "print('Train set score: {:.3f}'.format(NB_clf.score(X_train_tfidf, y_train))) #train set에 대한 예측정확도를 확인\n",
        "print('Test set score: {:.3f}'.format(NB_clf.score(X_test_tfidf, y_test))) #test set에 대한 예측정확도를 확인"
      ]
    },
    {
      "cell_type": "code",
      "execution_count": 26,
      "metadata": {
        "colab": {
          "base_uri": "https://localhost:8080/"
        },
        "id": "FnR1iKyWRJVb",
        "outputId": "19832ea2-7e21-41c5-b3df-06edda60ee53"
      },
      "outputs": [
        {
          "output_type": "stream",
          "name": "stdout",
          "text": [
            "alt.atheism: you, not, are, be, this, have, as, what, they, if\n",
            "comp.graphics: you, on, graphics, this, have, any, can, or, with, thanks\n",
            "sci.space: space, on, you, be, was, this, as, they, have, are\n",
            "talk.religion.misc: you, not, he, are, as, this, be, god, was, they\n"
          ]
        },
        {
          "output_type": "stream",
          "name": "stderr",
          "text": [
            "/usr/local/lib/python3.7/dist-packages/sklearn/utils/deprecation.py:103: FutureWarning: Attribute `coef_` was deprecated in version 0.24 and will be removed in 1.1 (renaming of 0.26).\n",
            "  warnings.warn(msg, category=FutureWarning)\n"
          ]
        }
      ],
      "source": [
        "#----------------------------------------\n",
        "# 카테고리별로 계수가 큰 10개의 특성을 추출해 출력 \n",
        "    # 분류에 대한 예측: 특정 단어들이 기여함 \n",
        "    # 네 카테고리별로 영향을 많이 미친 특성, 단어를 알고 싶다면 \n",
        "    # 특성에 대해 학습된 계수를 보면 됨 \n",
        "#----------------------------------------\n",
        "import numpy as np\n",
        "\n",
        "def top10_features(classifier, vectorizer, categories):\n",
        "    feature_names = np.asarray(vectorizer.get_feature_names_out())\n",
        "    for i, category in enumerate(categories):\n",
        "        # 역순으로 정렬하기 위해 계수에 음수를 취해서 정렬 후 앞에서부터 10개의 값을 반환\n",
        "        top10 = np.argsort(-classifier.coef_[i])[:10]\n",
        "        # 카테고리와 영향이 큰 특성 10개를 출력\n",
        "        print(\"%s: %s\" % (category, \", \".join(feature_names[top10])))\n",
        "\n",
        "top10_features(NB_clf, tfidf, newsgroups_train.target_names) \n",
        "\n",
        "# atheism: 무신론/ 상위 10 개 단어: you, not, are, be, this, have, as, what, they, if\n",
        "# graphics: you, on, **graphics**, this, have, any, can, or, with, thanks\n",
        "# 나이브 베이즈에서의 coef_는 결과를 해석하지 쉽지 않음 \n",
        "# sklearn 1.1 버전부터 MultinomialNB 클래스에 대해 coef_가 더 이상 지원 X\n",
        "# coef_를 이용한 단어의 영향에 대한 분석: 로지스틱 회귀분석 계열에서 주로 사용 "
      ]
    },
    {
      "cell_type": "markdown",
      "metadata": {
        "id": "rTBSqJaRRJVc"
      },
      "source": [
        "## 4. 로지스틱 회귀분석을 이용한 문서 분류\n",
        "\n",
        "1: http://scikit-learn.org/stable/modules/generated/sklearn.linear_model.LogisticRegression.html\n",
        "\n",
        "* 로지스틱 회귀분석\n",
        "    * 휘귀분석에 기반한 분류 알고리즘 \n",
        "    * 예측 라벨이 분류(class)에 해당할 때 사용 <-> 일반 회귀(연속 y값)\n",
        "    * 분류가 이진(binary)/ 셋 이상의 다중 클래스(multi-class) 다른 알고리즘 사용 \n",
        "\n",
        "* 사이킷런 LogisticRegression 클래스\n",
        "     * 객체 선언 \n",
        "     * fit() : 학습\n",
        "     * scroe(): 정확도\n",
        "     * predict(): 예측 값 반환 \n",
        "     * coef_ "
      ]
    },
    {
      "cell_type": "code",
      "execution_count": 27,
      "metadata": {
        "colab": {
          "base_uri": "https://localhost:8080/"
        },
        "id": "Bevn-kxxRJVd",
        "outputId": "6c982c32-6c14-41fb-884b-21793ff2d9a5"
      },
      "outputs": [
        {
          "output_type": "stream",
          "name": "stdout",
          "text": [
            "Train set score: 0.930\n",
            "Test set score: 0.734\n"
          ]
        }
      ],
      "source": [
        "from sklearn.linear_model import LogisticRegression #sklearn이 제공하는 logistic regression을 사용\n",
        "\n",
        "#count vector에 대해 regression을 해서 NB와 비교\n",
        "LR_clf = LogisticRegression() #분류기 선언\n",
        "LR_clf.fit(X_train_tfidf, y_train) # train data를 이용하여 분류기를 학습\n",
        "print('Train set score: {:.3f}'.format(LR_clf.score(X_train_tfidf, y_train))) # train data에 대한 예측정확도 \n",
        "print('Test set score: {:.3f}'.format(LR_clf.score(X_test_tfidf, y_test))) # test data에 대한 예측정확도\n",
        "\n",
        "# 나이브 베이즈보다 떨어진 성능 \n",
        "    # 1. 나이브 베이즈의 가정: 텍스트 분류 환경가 잘 맞아, 일반적 텍스트 분류에서 좋은 성능을 보여줌 \n",
        "    # 2. 두 알고리즘 성능 비교, 학습 vs 평가 데이터 성능 차이가 로지스틱에서 더 큼, 과적합의 가능성 \n",
        "    # 과적합 방지 \n",
        "        # 특성의 수를 줄임 \n",
        "        # 정규화를 이용해 각 특성에 대한 계수가 지나치게 커지는 것을 방지 \n",
        "        # 현재 특성 : 2,000 // 학습 데이터 수 (2.034개)비해 너무 많음 \n",
        "        # but, 텍스트 분석에서는 특성이 많음에도 좋은 성능을 보이는 경우가 많음"
      ]
    },
    {
      "cell_type": "markdown",
      "metadata": {
        "id": "mpAKVrlDRJVd"
      },
      "source": [
        "### 릿지 회귀(ridge regression)\n"
      ]
    },
    {
      "cell_type": "code",
      "execution_count": 28,
      "metadata": {
        "colab": {
          "base_uri": "https://localhost:8080/"
        },
        "id": "VsUkszuvRJVe",
        "outputId": "5e310232-e8ab-4e0e-810f-7910bedee5b6"
      },
      "outputs": [
        {
          "output_type": "stream",
          "name": "stdout",
          "text": [
            "Train set score: 0.960\n",
            "Test set score: 0.735\n"
          ]
        }
      ],
      "source": [
        "#----------------------------------------\n",
        "# 5.4.1 릿지 회귀를 이용한 과적합 방지 \n",
        "# Ridge Regression \n",
        "    # 회귀분석에 정규화를 사용하는 알고리즘 \n",
        "    # 최적화를 위한 목적합수에 정규화 항목을 넣어, 특성에 대한 계수가 지나치게 커지는 것 억제 \n",
        "\n",
        "# RidgeClassifier 클래스\n",
        "    # 매개변수 : 하이퍼 파라미터 \n",
        "        # 학습을 통해 정해지는 값이 아니라 사용자가 결정하는 값 \n",
        "    # alpha : 정규화 정도 조절 \n",
        "        # alpha ↑ : 정규화의 비중 커져, 계수의 변화 억제 \n",
        "        # alpha 너무 크면, 학습 자체가 잘 안됨, 적절한 값 피룡   \n",
        "#----------------------------------------\n",
        "\n",
        "from sklearn.linear_model import RidgeClassifier\n",
        "\n",
        "ridge_clf = RidgeClassifier() #릿지 분류기 선언\n",
        "ridge_clf.fit(X_train_tfidf, y_train) #학습\n",
        "print('Train set score: {:.3f}'.format(ridge_clf.score(X_train_tfidf, y_train)))\n",
        "print('Test set score: {:.3f}'.format(ridge_clf.score(X_test_tfidf, y_test)))\n",
        "\n",
        "# 적절한 alpha를 조정, 성능을 개선\n",
        "# 적절한 alpha를 찾기 위해 학습 데이터 다시 분리해 검증(validation) 데이터셋 만듦 \n",
        "# 검증 데이터셋에 대한 성능이 최고가 되는 alpha 선택 "
      ]
    },
    {
      "cell_type": "code",
      "execution_count": 29,
      "metadata": {
        "colab": {
          "base_uri": "https://localhost:8080/"
        },
        "id": "yx89d4ViRJVf",
        "outputId": "03283c95-efcd-42c2-ca9f-9ef1f98a4aaf"
      },
      "outputs": [
        {
          "output_type": "stream",
          "name": "stdout",
          "text": [
            "Max alpha 1.600 at max validation score 0.826\n"
          ]
        }
      ],
      "source": [
        "#----------------------------------------\n",
        "# GridSearch 구현 \n",
        "    # 다양한 하이퍼 파라미터 값에 대해 검증 데이터셋에 대한 성능을 계산 \n",
        "    # 적절한 하이퍼 파라미터 값을 얻음 \n",
        "# 검증 데이터셋(validation)\n",
        "    # sklearn, train_test_split 을 이용해 학습 데이터 분리 \n",
        "    # alpha 값을 0.1~ 10 까지 0.1씩 증가시키며 릿지 회귀 실시 \n",
        "    # 성능이 가장 큰 모형의 alpha 찾음 \n",
        "    # 보통: alpha(log scale) 0.001, 0.01, 0.1,1,10, 100 많이 사용 \n",
        "\n",
        "#----------------------------------------\n",
        "import numpy as np\n",
        "from sklearn.model_selection import train_test_split\n",
        "\n",
        "X_train_ridge, X_val_ridge, y_train_ridge, y_val_ridge = train_test_split(\n",
        "    X_train_tfidf, y_train, test_size=0.2, random_state=42)\n",
        "\n",
        "max_score = 0\n",
        "max_alpha = 0\n",
        "for alpha in np.arange(0.1, 10, 0.1): # alpha를 0.1부터 10까지 0.1씩 증가\n",
        "    ridge_clf = RidgeClassifier(alpha=alpha) #릿지 분류기 선언\n",
        "    ridge_clf.fit(X_train_ridge, y_train_ridge) #학습\n",
        "    score = ridge_clf.score(X_val_ridge, y_val_ridge) #검정 데이터셋에 대해 정확도를 측정\n",
        "    if score > max_score: #정확도가 이전의 정확도 최대값보다 크면 최대값을 변경한다.\n",
        "        max_score = score\n",
        "        max_alpha = alpha\n",
        "print('Max alpha {:.3f} at max validation score {:.3f}'.format(max_alpha, max_score))"
      ]
    },
    {
      "cell_type": "code",
      "execution_count": 30,
      "metadata": {
        "colab": {
          "base_uri": "https://localhost:8080/"
        },
        "id": "_O4p3eMERJVf",
        "outputId": "f5787e59-d5b3-4e85-d879-71575d05f8de"
      },
      "outputs": [
        {
          "output_type": "stream",
          "name": "stdout",
          "text": [
            "Train set score: 0.948\n",
            "Test set score: 0.739\n"
          ]
        }
      ],
      "source": [
        "ridge_clf = RidgeClassifier(alpha=1.6) #릿지 분류기 선언\n",
        "ridge_clf.fit(X_train_tfidf, y_train) #학습\n",
        "\n",
        "print('Train set score: {:.3f}'.format(ridge_clf.score(X_train_tfidf, y_train)))\n",
        "print('Test set score: {:.3f}'.format(ridge_clf.score(X_test_tfidf, y_test)))"
      ]
    },
    {
      "cell_type": "code",
      "execution_count": 31,
      "metadata": {
        "colab": {
          "base_uri": "https://localhost:8080/"
        },
        "id": "RY5qRTknRJVg",
        "outputId": "42b47fb6-e734-42b6-9680-2d0bfcffc3a1"
      },
      "outputs": [
        {
          "output_type": "stream",
          "name": "stdout",
          "text": [
            "alt.atheism: bobby, religion, atheism, atheists, motto, punishment, islam, deletion, islamic, satan\n",
            "comp.graphics: graphics, computer, 3d, file, image, hi, 42, using, screen, looking\n",
            "sci.space: space, orbit, nasa, spacecraft, moon, sci, launch, flight, funding, idea\n",
            "talk.religion.misc: christian, christians, fbi, blood, order, jesus, objective, children, christ, hudson\n"
          ]
        }
      ],
      "source": [
        "top10_features(ridge_clf, tfidf, newsgroups_train.target_names)\n",
        "\n",
        "# coef_를 통한 상위 특성, 로지스틱 회귀분석에서는 설명이 해석하기 편함 "
      ]
    },
    {
      "cell_type": "markdown",
      "metadata": {
        "id": "W7L-6hJXRJVh"
      },
      "source": [
        "### 라쏘 회귀분석(lasso regression)을 이용한 특성 선택(feature selection)\n",
        "\n",
        "1. http://scikit-learn.org/stable/modules/generated/sklearn.linear_model.Lasso.html"
      ]
    },
    {
      "cell_type": "code",
      "execution_count": 32,
      "metadata": {
        "colab": {
          "base_uri": "https://localhost:8080/"
        },
        "id": "j0Mky4VSRJVh",
        "outputId": "86a8a151-d531-4ce8-daca-febfe756db9a"
      },
      "outputs": [
        {
          "output_type": "stream",
          "name": "stdout",
          "text": [
            "#Train set score: 0.819\n",
            "#Test set score: 0.724\n",
            "#Used features count: 437 out of 2000\n"
          ]
        }
      ],
      "source": [
        "#----------------------------------------\n",
        "# 5.4.2 라쏘 회귀를 이용한 특성 선택 \n",
        "\n",
        "# Lasso Regression \n",
        "    # 특성의 계수에 대해 정규화 \n",
        "    # 정규화 항에 차이가 있음 (릿지: L2 정규화, 라쏘: L1 정규화)\n",
        "    # 특성의 계수가 0에 가까워지면 이를 완전히 0으로 바꿈 \n",
        "    # 특성의 계수 0: 실제로 분류에 전혀 영향을 미치지 않으며, 그 특성 값이 사용되지 않는다는 것을 의미 \n",
        "    # 특성의 수를 줄이는 결과를 가짐 -> 과적합 방지, 정보량/정확도도 같이 줄어듦\n",
        "\n",
        "# 별도의 분류기 제공 X\n",
        "# 로지스틱 회귀분석에서 정규화 방식을 L1으로 선택하도록 함으로써 지원 \n",
        "# 동시에 'liblinear' 를 선택해야 함 \n",
        "# 매개변수\n",
        "    # c: alpha의 역수 \n",
        "    # c↑: 정규화가 약해짐 \n",
        "#----------------------------------------\n",
        "\n",
        "lasso_clf = LogisticRegression(penalty='l1', solver='liblinear', C=1) # Lasso는 동일한 LogisticRegression을 사용하면서 매개변수로 지정\n",
        "lasso_clf.fit(X_train_tfidf, y_train) # train data로 학습\n",
        "\n",
        "print('#Train set score: {:.3f}'.format(lasso_clf.score(X_train_tfidf, y_train)))\n",
        "print('#Test set score: {:.3f}'.format(lasso_clf.score(X_test_tfidf, y_test)))\n",
        "\n",
        "# 계수(coefficient) 중에서 0이 아닌 것들의 개수를 출력\n",
        "print('#Used features count: {}'.format(np.sum(lasso_clf.coef_ != 0)), 'out of', X_train_tfidf.shape[1]) \n",
        "\n",
        "# Used features count: 437 out of 2000/ 사용 특성 줄어듦 \n",
        "# 라쏘 : 특성의 수를 줄임(특성 선택, feature selection)\n",
        "# 연관성이 떨어지는 특성 배제, 중요한 특성에 집중 "
      ]
    },
    {
      "cell_type": "code",
      "execution_count": 33,
      "metadata": {
        "colab": {
          "base_uri": "https://localhost:8080/"
        },
        "id": "dbneoH1sRJVi",
        "outputId": "d812a329-dd2a-4304-ee14-39308c93e57a"
      },
      "outputs": [
        {
          "output_type": "stream",
          "name": "stdout",
          "text": [
            "alt.atheism: bobby, atheism, atheists, islam, religion, islamic, motto, atheist, satan, vice\n",
            "comp.graphics: graphics, image, 3d, file, computer, hi, video, files, looking, sphere\n",
            "sci.space: space, orbit, launch, nasa, spacecraft, flight, moon, dc, shuttle, solar\n",
            "talk.religion.misc: fbi, christian, christians, christ, order, jesus, children, objective, context, blood\n"
          ]
        }
      ],
      "source": [
        "# 특성의 수를 줄이고, 특성에 대한 설명을 더 잘하기 위해 lasso 많이 사용됨 \n",
        "top10_features(lasso_clf, tfidf, newsgroups_train.target_names)"
      ]
    },
    {
      "cell_type": "markdown",
      "metadata": {
        "id": "pCWdGHBiRJVi"
      },
      "source": [
        "## 5. 결정트리 등을 이용한 기타 문서 분류 방법\n",
        "\n",
        "1. https://scikit-learn.org/stable/modules/generated/sklearn.tree.DecisionTreeClassifier.html\n",
        "2. https://scikit-learn.org/stable/modules/generated/sklearn.ensemble.RandomForestClassifier.html\n",
        "3. https://scikit-learn.org/stable/modules/generated/sklearn.ensemble.GradientBoostingClassifier.html\n",
        "\n",
        "* 결정 트리\n",
        "    * 모형이 학습되면 결정트리를 그려서 분류가 되는 과정을 살펴볼 수 있음 -> 체계적 설명 가증 \n",
        "    * 특성이 너무 많은 경우, 그려서 보기 쉽지 않음 \n",
        "    * 특성의 수 비롯한 여거 가지 고려해야 함 \n",
        "\n",
        "* DecisionTreeClssifier\n",
        "* RandomForestClassifier\n",
        "    * 결정트리 기반의 앙상블 모형 \n",
        "* GradientBoostingClassifier\n",
        "    * 결정트리 기반의 모형 중에서 높은 성능"
      ]
    },
    {
      "cell_type": "code",
      "execution_count": 34,
      "metadata": {
        "colab": {
          "base_uri": "https://localhost:8080/"
        },
        "id": "oC2Brod0RJVj",
        "outputId": "3eee8dd7-5c77-4138-e7f6-041af7649ff3"
      },
      "outputs": [
        {
          "output_type": "stream",
          "name": "stdout",
          "text": [
            "#Decision Tree train set score: 0.977\n",
            "#Decision Tree test set score: 0.536\n",
            "#Random Forest train set score: 0.977\n",
            "#Random Forest test set score: 0.685\n",
            "#Gradient Boosting train set score: 0.933\n",
            "#Gradient Boosting test set score: 0.696\n"
          ]
        }
      ],
      "source": [
        "from sklearn.tree import DecisionTreeClassifier\n",
        "from sklearn.ensemble import RandomForestClassifier\n",
        "from sklearn.ensemble import GradientBoostingClassifier\n",
        "\n",
        "tree = DecisionTreeClassifier(random_state=7)\n",
        "tree.fit(X_train_tfidf, y_train)\n",
        "print('#Decision Tree train set score: {:.3f}'.format(tree.score(X_train_tfidf, y_train)))\n",
        "print('#Decision Tree test set score: {:.3f}'.format(tree.score(X_test_tfidf, y_test)))\n",
        "\n",
        "forest = RandomForestClassifier(random_state=7)\n",
        "forest.fit(X_train_tfidf, y_train)\n",
        "print('#Random Forest train set score: {:.3f}'.format(forest.score(X_train_tfidf, y_train)))\n",
        "print('#Random Forest test set score: {:.3f}'.format(forest.score(X_test_tfidf, y_test)))\n",
        "\n",
        "gb = GradientBoostingClassifier(random_state=7)\n",
        "gb.fit(X_train_tfidf, y_train)\n",
        "print('#Gradient Boosting train set score: {:.3f}'.format(gb.score(X_train_tfidf, y_train)))\n",
        "print('#Gradient Boosting test set score: {:.3f}'.format(gb.score(X_test_tfidf, y_test)))\n",
        "\n",
        "# 결정 트리 : 과적합되는 경향 강함 \n",
        "# 최적화를 위한 하이퍼파라미터 탐색 필요 & 문석 분류의 경우 결정트리 기반 알고리즘 좋은 성능 X "
      ]
    },
    {
      "cell_type": "code",
      "execution_count": 35,
      "metadata": {
        "colab": {
          "base_uri": "https://localhost:8080/"
        },
        "id": "3C_ZQ7SQRJVj",
        "outputId": "e097fa7e-88d0-4316-adce-9639afe956a2"
      },
      "outputs": [
        {
          "output_type": "stream",
          "name": "stdout",
          "text": [
            "space: 0.126, graphics: 0.080, atheism: 0.024, thanks: 0.023, file: 0.021, orbit: 0.020, jesus: 0.018, god: 0.018, hi: 0.017, nasa: 0.015, image: 0.015, files: 0.014, christ: 0.010, moon: 0.010, bobby: 0.010, launch: 0.010, looking: 0.010, christian: 0.010, atheists: 0.009, christians: 0.009, fbi: 0.009, 3d: 0.008, you: 0.008, not: 0.008, islamic: 0.007, religion: 0.007, spacecraft: 0.007, flight: 0.007, computer: 0.007, islam: 0.007, ftp: 0.006, color: 0.006, software: 0.005, atheist: 0.005, card: 0.005, people: 0.005, koresh: 0.005, his: 0.005, kent: 0.004, sphere: 0.004, "
          ]
        }
      ],
      "source": [
        "# 나이브 베이즈, 로지스틱 회귀분석과 다르게 feature_importances_를 제공 \n",
        "# 결정트리: 성격이 비슷한 두 단어 중 하나가 분류에 먼저 사용되면, 다른 단어는 상대적으로 중요도가 떨어짐 \n",
        "# 로지스틱 회귀분석: 두 단어가 비슷한 계숫값을 가져도 경정트리에서 완전 다른 값 가질 수 있음 \n",
        "sorted_feature_importances = sorted(zip(tfidf.get_feature_names_out(), gb.feature_importances_), key=lambda x: x[1], reverse=True)\n",
        "for feature, value in sorted_feature_importances[:40]:\n",
        "    print('%s: %.3f' % (feature, value), end=', ')"
      ]
    },
    {
      "cell_type": "markdown",
      "metadata": {
        "id": "WEAUL3oERJVk"
      },
      "source": [
        "## 06. 성능을 높이기 위한 방법들\n",
        "* 1. 토큰화, 정규화 \n",
        "    * CountVectorizer, TfidfVectorizer , 자체 토크나이저 및 외부에서 정으히나 ㅎ마수 사용 \n",
        "    * 토크나이저 향상\n",
        "        * 정규표현식 토크나이저 \n",
        "            * NLTK의 불용어 사전 이용해 불용어 제거\n",
        "            * 포터 스테머를 사용해 스테밍 수행 \n",
        "* TfidfVectorizer 에 이 토큰화 결과 입력해 나온 특성 벡터로 로지스틱 회귀분석 실시 "
      ]
    },
    {
      "cell_type": "code",
      "execution_count": 36,
      "metadata": {
        "colab": {
          "base_uri": "https://localhost:8080/"
        },
        "id": "KHYhjbYdRJVk",
        "outputId": "63c9c30c-7b33-4c72-bf65-5cd42d48d392"
      },
      "outputs": [
        {
          "output_type": "stream",
          "name": "stdout",
          "text": [
            "#Train set score: 0.930\n",
            "#Test set score: 0.751\n"
          ]
        }
      ],
      "source": [
        "# 필요한 library들을 import\n",
        "from nltk.corpus import stopwords\n",
        "cachedStopWords = stopwords.words(\"english\")\n",
        "\n",
        "from nltk.tokenize import RegexpTokenizer\n",
        "from nltk.stem.porter import PorterStemmer\n",
        "import re\n",
        "\n",
        "RegTok = RegexpTokenizer(\"[\\w']{3,}\") # 정규포현식으로 토크나이저를 정의\n",
        "english_stops = set(stopwords.words('english')) #영어 불용어를 가져옴\n",
        "\n",
        "def tokenizer(text):\n",
        "    tokens = RegTok.tokenize(text.lower()) #이렇게 해도 되는지 확인\n",
        "    # stopwords 제외\n",
        "    words = [word for word in tokens if (word not in english_stops) and len(word) > 2]\n",
        "    # portr stemmer 적용\n",
        "    features = (list(map(lambda token: PorterStemmer().stem(token),words)))\n",
        "    return features\n",
        "\n",
        "tfidf = TfidfVectorizer(tokenizer=tokenizer, max_features=2000, min_df=5, max_df=0.5) # 새로 정의한 토크나이저 사용\n",
        "X_train_tfidf = tfidf.fit_transform(X_train) # train set을 변환\n",
        "X_test_tfidf = tfidf.transform(X_test) # test set을 변환\n",
        "\n",
        "#tfidf vector를 이용해서 분류기 학습\n",
        "LR_clf = LogisticRegression() #분류기 선언\n",
        "LR_clf.fit(X_train_tfidf, y_train) # train data를 이용하여 분류기를 학습\n",
        "print('#Train set score: {:.3f}'.format(LR_clf.score(X_train_tfidf, y_train))) # train data에 대한 예측정확도 \n",
        "print('#Test set score: {:.3f}'.format(LR_clf.score(X_test_tfidf, y_test))) # test data에 대한 예측정확도"
      ]
    },
    {
      "cell_type": "code",
      "execution_count": 37,
      "metadata": {
        "colab": {
          "base_uri": "https://localhost:8080/"
        },
        "id": "_-D8E3OzRJVk",
        "outputId": "440db203-10c6-4f1b-9015-0f9f2506597e"
      },
      "outputs": [
        {
          "output_type": "execute_result",
          "data": {
            "text/plain": [
              "2000"
            ]
          },
          "metadata": {},
          "execution_count": 37
        }
      ],
      "source": [
        "len(LR_clf.coef_[0])"
      ]
    },
    {
      "cell_type": "code",
      "execution_count": 38,
      "metadata": {
        "colab": {
          "base_uri": "https://localhost:8080/"
        },
        "id": "V_V_SnXNRJVl",
        "outputId": "1e6d8ce8-f21f-4915-90d6-80f969c00239"
      },
      "outputs": [
        {
          "output_type": "stream",
          "name": "stdout",
          "text": [
            "#Train set dimension: (2034, 20085)\n",
            "#Test set dimension: (1353, 20085)\n",
            "#Train set score: 0.968\n",
            "#Test set score: 0.768\n",
            "#Train set score: 0.971\n",
            "#Test set score: 0.793\n"
          ]
        }
      ],
      "source": [
        "#----------------------------------------\n",
        "# 그리드 서치로 적정 alpha : 2.4 구함 \n",
        "# 릿지 회귀분석 실시 \n",
        "#----------------------------------------\n",
        "from sklearn.feature_extraction.text import TfidfVectorizer\n",
        "\n",
        "tfidf = TfidfVectorizer(tokenizer=tokenizer)\n",
        "\n",
        "X_train_tfidf = tfidf.fit_transform(X_train) # train set을 변환\n",
        "print('#Train set dimension:', X_train_tfidf.shape) # 실제로 몇개의 특성이 사용되었는지 확인\n",
        "X_test_tfidf = tfidf.transform(X_test) # test set을 변환\n",
        "print('#Test set dimension:', X_test_tfidf.shape)\n",
        "\n",
        "ridge_clf = RidgeClassifier(alpha=2.4)\n",
        "ridge_clf.fit(X_train_tfidf, y_train) #학습\n",
        "print('#Train set score: {:.3f}'.format(ridge_clf.score(X_train_tfidf, y_train)))\n",
        "print('#Test set score: {:.3f}'.format(ridge_clf.score(X_test_tfidf, y_test)))\n",
        "\n",
        "NB_clf = MultinomialNB(alpha=0.01) # 분류기 선언\n",
        "NB_clf.fit(X_train_tfidf, y_train) #train set을 이용하여 분류기(classifier)를 학습\n",
        "print('#Train set score: {:.3f}'.format(NB_clf.score(X_train_tfidf, y_train))) #train set에 대한 예측정확도를 확인\n",
        "print('#Test set score: {:.3f}'.format(NB_clf.score(X_test_tfidf, y_test))) #test set에 대한 예측정확도를 확인"
      ]
    },
    {
      "cell_type": "markdown",
      "metadata": {
        "id": "HvHQqvGoRJVl"
      },
      "source": [
        "## 07. 카운트 기반의 문제점과 N-gram"
      ]
    },
    {
      "cell_type": "code",
      "execution_count": 39,
      "metadata": {
        "id": "7GTlgVy3RJVl"
      },
      "outputs": [],
      "source": [
        "#----------------------------------------\n",
        "# 5.7.1 통계로는 알 수 없는 문맥 정보 \n",
        "# BOW(Bag of Words)의 단점 \n",
        "    # 단어들이 쓰여진 순서에 딸느 문맥 정보 이용 X \n",
        "    # 단어 순서 무시, 단어가 사용된 횟수 기반으로 문서 벡터 생성 \n",
        "    # 문맥 파악: sequence 표현해 사용 \n",
        "        # 딥러닝 기법 (단어가 쓰여진 순서 반영, N-gram)\n",
        "#----------------------------------------\n",
        "\n",
        "#----------------------------------------\n",
        "# 5.7.2 N-gram 이해 \n",
        "# N-gram\n",
        "    # n개의 연속적인 단어들의 나열\n",
        "        # n=1, unigram: 보통, 토큰은 하나의 단어, 의미가 있는 가장 작은 단위로 만들어짐\n",
        "        # n=2, bi-gram : 하나의 토큰은 두 개 이상의 단어로 구성 \n",
        "        # n=3, tri-gram\n",
        "\n",
        "# 언어 모델\n",
        "    # 문장 혹은 시퀀스에 대한 확률을 할당하는 모델\n",
        "    # 이때 확률은 말뭉치에 나타난 단어 시퀀스의 빈도와 관련이 있음 \n",
        "#----------------------------------------"
      ]
    },
    {
      "cell_type": "code",
      "execution_count": 40,
      "metadata": {
        "colab": {
          "base_uri": "https://localhost:8080/"
        },
        "id": "-IKN8vb0RJVm",
        "outputId": "3fe60815-8b5d-4aae-9589-057c33215834"
      },
      "outputs": [
        {
          "output_type": "stream",
          "name": "stdout",
          "text": [
            "(2034, 11483)\n"
          ]
        }
      ],
      "source": [
        "#----------------------------------------\n",
        "# 5.7.3 N-gram을 이용한 문서 분류 \n",
        "    # uni-gram, bi-gram, tri-gram\n",
        "    # uni-gram : TfidfVectorizer 객체 생성, 변환, tf-idf 벡터의 크기 확인 \n",
        "    # n-gram 에 따른 벡터의 크기 확인을 위해 max_features를 사용하지 않음 \n",
        "    # + 토큰화를 위한 정규식 인수로 주고, nltk 불용어 사전 이용   \n",
        "#----------------------------------------\n",
        "cachedStopWords = stopwords.words(\"english\")\n",
        "tfidf = TfidfVectorizer(token_pattern= \"[a-zA-Z']{3,}\", # 토큰화를 위한 정규식\n",
        "                        decode_error ='ignore', \n",
        "                        lowercase=True, \n",
        "                        stop_words = stopwords.words('english'), \n",
        "                        max_df=0.5,\n",
        "                        min_df=2)\n",
        "X_train_tfidf = tfidf.fit_transform(X_train)\n",
        "X_test_tfidf = tfidf.transform(X_test)\n",
        "\n",
        "print(X_train_tfidf.shape) \n",
        "# 단어: 11,483 , n-gram 사용하면 변수 늘어나고, 이로 인해 과적합의 우려가 있음 -> 릿지 회귀 사용 (정규화)"
      ]
    },
    {
      "cell_type": "code",
      "execution_count": 41,
      "metadata": {
        "colab": {
          "base_uri": "https://localhost:8080/"
        },
        "id": "QgHalrdjRJVm",
        "outputId": "b0c704d5-2936-4240-edeb-85c6ed8269bd"
      },
      "outputs": [
        {
          "output_type": "stream",
          "name": "stdout",
          "text": [
            "Train set score: 0.976\n",
            "Test set score: 0.766\n"
          ]
        }
      ],
      "source": [
        "from sklearn.linear_model import RidgeClassifier\n",
        "ridge_clf = RidgeClassifier() #릿지 분류기 선언\n",
        "ridge_clf.fit(X_train_tfidf, y_train) #학습\n",
        "print('Train set score: {:.3f}'.format(ridge_clf.score(X_train_tfidf, y_train)))\n",
        "print('Test set score: {:.3f}'.format(ridge_clf.score(X_test_tfidf, y_test)))"
      ]
    },
    {
      "cell_type": "code",
      "execution_count": 42,
      "metadata": {
        "colab": {
          "base_uri": "https://localhost:8080/"
        },
        "id": "ji2mcjRjRJVm",
        "outputId": "fa675d4f-5c9c-4515-ee33-62b7af46bcf9"
      },
      "outputs": [
        {
          "output_type": "stream",
          "name": "stdout",
          "text": [
            "(2034, 26550)\n"
          ]
        }
      ],
      "source": [
        "#----------------------------------------\n",
        "# bi-gram 사용\n",
        "# TfidVectorizer\n",
        "    # ngram_range 매개변수\n",
        "        # (시작 N, 끝 N)\n",
        "            # ex1. (1,2) : unigram, bigram 모두 사용 \n",
        "            # ex2. (2,2) : bigram 만 사용  \n",
        "#----------------------------------------\n",
        "\n",
        "tfidf = TfidfVectorizer(token_pattern= \"[a-zA-Z']{3,}\", \n",
        "                        decode_error ='ignore', \n",
        "                        lowercase=True, \n",
        "                        stop_words = stopwords.words('english'),\n",
        "                        ngram_range=(1, 2), # 바이그램 설정\n",
        "                        max_df=0.5,\n",
        "                        min_df=2)\n",
        "X_train_tfidf = tfidf.fit_transform(X_train)\n",
        "X_test_tfidf = tfidf.transform(X_test)\n",
        "\n",
        "print(X_train_tfidf.shape)"
      ]
    },
    {
      "cell_type": "code",
      "execution_count": 43,
      "metadata": {
        "colab": {
          "base_uri": "https://localhost:8080/"
        },
        "id": "YzGfZzHsRJVn",
        "outputId": "c594c7d2-0f2c-4e0c-f472-83694b13fee1"
      },
      "outputs": [
        {
          "output_type": "stream",
          "name": "stdout",
          "text": [
            "bi-gram samples: [\"'cause can't\", \"'em better\", \"'expected errors'\", \"'karla' next\", \"'nodis' password\", \"'official doctrine\", \"'ok see\", \"'sci astro'\", \"'what's moonbase\", 'aas american']\n",
            "Train set score: 0.976\n",
            "Test set score: 0.773\n"
          ]
        }
      ],
      "source": [
        "#----------------------------------------\n",
        "# 특성 이름 출력, 릿지 회귀분석으로 학습한 후 결과 확인\n",
        "#----------------------------------------\n",
        "bigram_features = [f for f in tfidf.get_feature_names_out() if len(f.split()) > 1]\n",
        "print('bi-gram samples:', bigram_features[:10])\n",
        "\n",
        "ridge_clf.fit(X_train_tfidf, y_train) #학습\n",
        "print('Train set score: {:.3f}'.format(ridge_clf.score(X_train_tfidf, y_train)))\n",
        "print('Test set score: {:.3f}'.format(ridge_clf.score(X_test_tfidf, y_test)))"
      ]
    },
    {
      "cell_type": "code",
      "execution_count": 44,
      "metadata": {
        "colab": {
          "base_uri": "https://localhost:8080/"
        },
        "id": "SjAHSL3dRJVn",
        "outputId": "94db85c0-5bbe-4759-b3fe-f50312f1a43a"
      },
      "outputs": [
        {
          "output_type": "stream",
          "name": "stdout",
          "text": [
            "(2034, 32943)\n",
            "tri-gram samples: [\"'em better shots\", \"'expected errors' basically\", \"'karla' next one\", \"'nodis' password also\", \"'official doctrine think\", \"'ok see warning\", \"'what's moonbase good\", 'aas american astronautical', 'ability means infallible', 'able accept donations']\n",
            "Train set score: 0.976\n",
            "Test set score: 0.775\n"
          ]
        }
      ],
      "source": [
        "tfidf = TfidfVectorizer(token_pattern= \"[a-zA-Z']{3,}\", \n",
        "                        decode_error ='ignore', \n",
        "                        lowercase=True, \n",
        "                        stop_words = stopwords.words('english'),\n",
        "                        ngram_range=(1, 3),\n",
        "                        max_df=0.5,\n",
        "                        min_df=2)\n",
        "X_train_tfidf = tfidf.fit_transform(X_train)\n",
        "X_test_tfidf = tfidf.transform(X_test)\n",
        "print(X_train_tfidf.shape)\n",
        "\n",
        "trigram_features = [f for f in tfidf.get_feature_names_out() if len(f.split()) > 2]\n",
        "print('tri-gram samples:', trigram_features[:10])\n",
        "\n",
        "ridge_clf.fit(X_train_tfidf, y_train) #학습\n",
        "print('Train set score: {:.3f}'.format(ridge_clf.score(X_train_tfidf, y_train)))\n",
        "print('Test set score: {:.3f}'.format(ridge_clf.score(X_test_tfidf, y_test)))"
      ]
    },
    {
      "cell_type": "markdown",
      "metadata": {
        "id": "h0-tVI9FRJVo"
      },
      "source": [
        "## 8. 한글 문서의 분류\n",
        "* 영어 문서\n",
        "    * 사이킷런 : 기본 토크나이저 사용 가능 \n",
        "* 한글 문서\n",
        "    * 별도의 토크나이저 지정 "
      ]
    },
    {
      "cell_type": "code",
      "execution_count": 46,
      "metadata": {
        "colab": {
          "base_uri": "https://localhost:8080/",
          "height": 206
        },
        "id": "Dqbv501MRJVo",
        "outputId": "679c0b79-7e47-41e3-e0a0-ec7ee5edcb94"
      },
      "outputs": [
        {
          "output_type": "execute_result",
          "data": {
            "text/plain": [
              "                                              review  rating        date  \\\n",
              "0                             돈 들인건 티가 나지만 보는 내내 하품만       1  2018.10.29   \n",
              "1       몰입할수밖에 없다. 어렵게 생각할 필요없다. 내가 전투에 참여한듯 손에 땀이남.      10  2018.10.26   \n",
              "2  이전 작품에 비해 더 화려하고 스케일도 커졌지만.... 전국 맛집의 음식들을 한데 ...       8  2018.10.24   \n",
              "3                                이 정도면 볼만하다고 할 수 있음!       8  2018.10.22   \n",
              "4                                               재미있다      10  2018.10.20   \n",
              "\n",
              "    title  \n",
              "0  인피니티 워  \n",
              "1  인피니티 워  \n",
              "2  인피니티 워  \n",
              "3  인피니티 워  \n",
              "4  인피니티 워  "
            ],
            "text/html": [
              "\n",
              "  <div id=\"df-ed893143-7741-45c4-8a97-08cfccae847f\">\n",
              "    <div class=\"colab-df-container\">\n",
              "      <div>\n",
              "<style scoped>\n",
              "    .dataframe tbody tr th:only-of-type {\n",
              "        vertical-align: middle;\n",
              "    }\n",
              "\n",
              "    .dataframe tbody tr th {\n",
              "        vertical-align: top;\n",
              "    }\n",
              "\n",
              "    .dataframe thead th {\n",
              "        text-align: right;\n",
              "    }\n",
              "</style>\n",
              "<table border=\"1\" class=\"dataframe\">\n",
              "  <thead>\n",
              "    <tr style=\"text-align: right;\">\n",
              "      <th></th>\n",
              "      <th>review</th>\n",
              "      <th>rating</th>\n",
              "      <th>date</th>\n",
              "      <th>title</th>\n",
              "    </tr>\n",
              "  </thead>\n",
              "  <tbody>\n",
              "    <tr>\n",
              "      <th>0</th>\n",
              "      <td>돈 들인건 티가 나지만 보는 내내 하품만</td>\n",
              "      <td>1</td>\n",
              "      <td>2018.10.29</td>\n",
              "      <td>인피니티 워</td>\n",
              "    </tr>\n",
              "    <tr>\n",
              "      <th>1</th>\n",
              "      <td>몰입할수밖에 없다. 어렵게 생각할 필요없다. 내가 전투에 참여한듯 손에 땀이남.</td>\n",
              "      <td>10</td>\n",
              "      <td>2018.10.26</td>\n",
              "      <td>인피니티 워</td>\n",
              "    </tr>\n",
              "    <tr>\n",
              "      <th>2</th>\n",
              "      <td>이전 작품에 비해 더 화려하고 스케일도 커졌지만.... 전국 맛집의 음식들을 한데 ...</td>\n",
              "      <td>8</td>\n",
              "      <td>2018.10.24</td>\n",
              "      <td>인피니티 워</td>\n",
              "    </tr>\n",
              "    <tr>\n",
              "      <th>3</th>\n",
              "      <td>이 정도면 볼만하다고 할 수 있음!</td>\n",
              "      <td>8</td>\n",
              "      <td>2018.10.22</td>\n",
              "      <td>인피니티 워</td>\n",
              "    </tr>\n",
              "    <tr>\n",
              "      <th>4</th>\n",
              "      <td>재미있다</td>\n",
              "      <td>10</td>\n",
              "      <td>2018.10.20</td>\n",
              "      <td>인피니티 워</td>\n",
              "    </tr>\n",
              "  </tbody>\n",
              "</table>\n",
              "</div>\n",
              "      <button class=\"colab-df-convert\" onclick=\"convertToInteractive('df-ed893143-7741-45c4-8a97-08cfccae847f')\"\n",
              "              title=\"Convert this dataframe to an interactive table.\"\n",
              "              style=\"display:none;\">\n",
              "        \n",
              "  <svg xmlns=\"http://www.w3.org/2000/svg\" height=\"24px\"viewBox=\"0 0 24 24\"\n",
              "       width=\"24px\">\n",
              "    <path d=\"M0 0h24v24H0V0z\" fill=\"none\"/>\n",
              "    <path d=\"M18.56 5.44l.94 2.06.94-2.06 2.06-.94-2.06-.94-.94-2.06-.94 2.06-2.06.94zm-11 1L8.5 8.5l.94-2.06 2.06-.94-2.06-.94L8.5 2.5l-.94 2.06-2.06.94zm10 10l.94 2.06.94-2.06 2.06-.94-2.06-.94-.94-2.06-.94 2.06-2.06.94z\"/><path d=\"M17.41 7.96l-1.37-1.37c-.4-.4-.92-.59-1.43-.59-.52 0-1.04.2-1.43.59L10.3 9.45l-7.72 7.72c-.78.78-.78 2.05 0 2.83L4 21.41c.39.39.9.59 1.41.59.51 0 1.02-.2 1.41-.59l7.78-7.78 2.81-2.81c.8-.78.8-2.07 0-2.86zM5.41 20L4 18.59l7.72-7.72 1.47 1.35L5.41 20z\"/>\n",
              "  </svg>\n",
              "      </button>\n",
              "      \n",
              "  <style>\n",
              "    .colab-df-container {\n",
              "      display:flex;\n",
              "      flex-wrap:wrap;\n",
              "      gap: 12px;\n",
              "    }\n",
              "\n",
              "    .colab-df-convert {\n",
              "      background-color: #E8F0FE;\n",
              "      border: none;\n",
              "      border-radius: 50%;\n",
              "      cursor: pointer;\n",
              "      display: none;\n",
              "      fill: #1967D2;\n",
              "      height: 32px;\n",
              "      padding: 0 0 0 0;\n",
              "      width: 32px;\n",
              "    }\n",
              "\n",
              "    .colab-df-convert:hover {\n",
              "      background-color: #E2EBFA;\n",
              "      box-shadow: 0px 1px 2px rgba(60, 64, 67, 0.3), 0px 1px 3px 1px rgba(60, 64, 67, 0.15);\n",
              "      fill: #174EA6;\n",
              "    }\n",
              "\n",
              "    [theme=dark] .colab-df-convert {\n",
              "      background-color: #3B4455;\n",
              "      fill: #D2E3FC;\n",
              "    }\n",
              "\n",
              "    [theme=dark] .colab-df-convert:hover {\n",
              "      background-color: #434B5C;\n",
              "      box-shadow: 0px 1px 3px 1px rgba(0, 0, 0, 0.15);\n",
              "      filter: drop-shadow(0px 1px 2px rgba(0, 0, 0, 0.3));\n",
              "      fill: #FFFFFF;\n",
              "    }\n",
              "  </style>\n",
              "\n",
              "      <script>\n",
              "        const buttonEl =\n",
              "          document.querySelector('#df-ed893143-7741-45c4-8a97-08cfccae847f button.colab-df-convert');\n",
              "        buttonEl.style.display =\n",
              "          google.colab.kernel.accessAllowed ? 'block' : 'none';\n",
              "\n",
              "        async function convertToInteractive(key) {\n",
              "          const element = document.querySelector('#df-ed893143-7741-45c4-8a97-08cfccae847f');\n",
              "          const dataTable =\n",
              "            await google.colab.kernel.invokeFunction('convertToInteractive',\n",
              "                                                     [key], {});\n",
              "          if (!dataTable) return;\n",
              "\n",
              "          const docLinkHtml = 'Like what you see? Visit the ' +\n",
              "            '<a target=\"_blank\" href=https://colab.research.google.com/notebooks/data_table.ipynb>data table notebook</a>'\n",
              "            + ' to learn more about interactive tables.';\n",
              "          element.innerHTML = '';\n",
              "          dataTable['output_type'] = 'display_data';\n",
              "          await google.colab.output.renderOutput(dataTable, element);\n",
              "          const docLink = document.createElement('div');\n",
              "          docLink.innerHTML = docLinkHtml;\n",
              "          element.appendChild(docLink);\n",
              "        }\n",
              "      </script>\n",
              "    </div>\n",
              "  </div>\n",
              "  "
            ]
          },
          "metadata": {},
          "execution_count": 46
        }
      ],
      "source": [
        "#----------------------------------------\n",
        "# 5.8.1 다음 영화 리뷰에 대한 영화 제목 예측 \n",
        "    # 다음 무비 영화 리뷰 이용 \n",
        "    # 영화 리뷰의 내용을 분석해 영화의 제목을 예측하는 분류기 생성 \n",
        "#----------------------------------------\n",
        "import pandas as pd\n",
        "df = pd.read_csv('./review.csv')\n",
        "df.head(5)"
      ]
    },
    {
      "cell_type": "code",
      "execution_count": 47,
      "metadata": {
        "colab": {
          "base_uri": "https://localhost:8080/"
        },
        "id": "v3fJrRviRJVo",
        "outputId": "9474ca3c-ade6-497b-b9bc-5d32c3fc774e"
      },
      "outputs": [
        {
          "output_type": "execute_result",
          "data": {
            "text/plain": [
              "신과함께      4947\n",
              "택시운전사     2322\n",
              "인피니티 워    2042\n",
              "범죄도시      1939\n",
              "곤지암       1547\n",
              "라라랜드      1150\n",
              "코코         778\n",
              "Name: title, dtype: int64"
            ]
          },
          "metadata": {},
          "execution_count": 47
        }
      ],
      "source": [
        "#----------------------------------------\n",
        "# 어떤 영화, 각 영화별 리뷰의 수 \n",
        "    # 데이터셋 불균형(imbalanced dataset)\n",
        "    # : 데이터셋의 개수가 많이 차이남 \n",
        "    \n",
        "    # 불균형 데이터셋 문제 해결\n",
        "        # 1. 언더 샘플링을 통해 갯수가 많은 분류들의 데이터 수를 적은 분류의 수에 맞춤 \n",
        "        # 2. 오버 샘플링 이용해 데이터 수가 적은 분류의 수를 늘림 \n",
        "#----------------------------------------\n",
        "df.title.value_counts()"
      ]
    },
    {
      "cell_type": "code",
      "execution_count": 48,
      "metadata": {
        "colab": {
          "base_uri": "https://localhost:8080/"
        },
        "id": "OlRqr-J0RJVp",
        "outputId": "a6308dab-4e8a-4995-ac30-1d61e62d8cee"
      },
      "outputs": [
        {
          "output_type": "stream",
          "name": "stdout",
          "text": [
            "#Train set size: 11043\n",
            "#Test set size: 3682\n"
          ]
        }
      ],
      "source": [
        "#----------------------------------------\n",
        "# train_test_split\n",
        "    # 학습 , 평가 셋으로 분리\n",
        "    # 데이터셋 크기 확인 \n",
        "#----------------------------------------\n",
        "from sklearn.model_selection import train_test_split\n",
        "\n",
        "# split data and labels into a training and a test set\n",
        "X_train, X_test, y_train, y_test = train_test_split(df.review, df.title, random_state=0)\n",
        "# 비율을 지정하지 않으면 75:25로 분할됨\n",
        "print('#Train set size:', len(X_train)) # 실제로 몇개의 특성이 사용되었는지 확인\n",
        "print('#Test set size:', len(X_test))"
      ]
    },
    {
      "cell_type": "code",
      "execution_count": 49,
      "metadata": {
        "scrolled": true,
        "colab": {
          "base_uri": "https://localhost:8080/"
        },
        "id": "O0myN2WqRJVp",
        "outputId": "a3d55391-8a8e-4744-bac0-6b0a3151b833"
      },
      "outputs": [
        {
          "output_type": "stream",
          "name": "stdout",
          "text": [
            "['몰입', '할수밖에', '없다', '.', '어렵게', '생각', '할', '필요없다', '.', '내', '가', '전투', '에', '참여', '한', '듯', '손', '에', '땀', '이남', '.']\n",
            "['몰입', '생각', '내', '전투', '참여', '듯', '손', '땀', '이남']\n"
          ]
        }
      ],
      "source": [
        "#----------------------------------------\n",
        "# KoNLPy : 다섯개의 형태소 분석기 제공 \n",
        "# 가장 잘 맞는 형태소 분석기 선택 \n",
        "#----------------------------------------\n",
        "from konlpy.tag import Okt #konlpy에서 Twitter 형태소 분석기를 import\n",
        "#from konlpy.tag import Twitter #konlpy에서 Twitter 형태소 분석기를 import\n",
        "okt = Okt()\n",
        "\n",
        "print(okt.morphs(X_train[1])) #둘째 리뷰에 대해 형태소 단위로 tokenize\n",
        "print(okt.nouns(X_train[1])) #둘째 리뷰에서 명사만 추출"
      ]
    },
    {
      "cell_type": "code",
      "execution_count": 50,
      "metadata": {
        "colab": {
          "base_uri": "https://localhost:8080/"
        },
        "id": "3lszUHhJRJVp",
        "outputId": "07ad063e-32d9-4346-dd6e-2461f825063b"
      },
      "outputs": [
        {
          "output_type": "stream",
          "name": "stdout",
          "text": [
            "#Train set score: 0.756\n",
            "#Test set score: 0.694\n"
          ]
        }
      ],
      "source": [
        "#----------------------------------------\n",
        "# okt.nouns()를 이용해 명사만 사용 \n",
        "# 로지스틱 회귀분석 수행 \n",
        "\n",
        "# LogisticRegression\n",
        "    # max_iter 매개변수: 1,000\n",
        "    # 매개변수의 default 값: 100\n",
        "    # 기본값으로 실행할 경우 충분히 수렴되지 않았다는 warnings 발생 \n",
        "#----------------------------------------\n",
        "from sklearn.feature_extraction.text import TfidfVectorizer\n",
        "from sklearn.linear_model import LogisticRegression\n",
        "\n",
        "#Twitter 형태소분석기에서 명사만 추출하는 함수를 tokenizer로 이용\n",
        "tfidf = TfidfVectorizer(tokenizer=okt.nouns, max_features=2000, min_df=5, max_df=0.5) \n",
        "\n",
        "X_train_tfidf = tfidf.fit_transform(X_train) # train data 변환 -> tfidf vector\n",
        "X_test_tfidf = tfidf.transform(X_test) # test data 변환 -> tfidf vector\n",
        "\n",
        "# logistic regression 분류기 선언\n",
        "clf = LogisticRegression(max_iter=1000) # 충분한 학습을 위해 max_iter를 1,000으로 설정, 기본은 100\n",
        "clf.fit(X_train_tfidf, y_train) # 분류기 학습\n",
        "print('#Train set score: {:.3f}'.format(clf.score(X_train_tfidf, y_train))) # train data 예측정확도\n",
        "print('#Test set score: {:.3f}'.format(clf.score(X_test_tfidf, y_test))) # test data 예측정확도"
      ]
    },
    {
      "cell_type": "code",
      "execution_count": 51,
      "metadata": {
        "colab": {
          "base_uri": "https://localhost:8080/"
        },
        "id": "0_uvfInQRJVq",
        "outputId": "4f194a20-0d91-4e24-dd3f-df9a1d342645"
      },
      "outputs": [
        {
          "output_type": "stream",
          "name": "stdout",
          "text": [
            "실제영화제목, 예측한 제목, 리뷰\n",
            "('범죄도시', '신과함께', '오랜만에 잼나는 영화 봤습니다.  다음에 더 재미있는 영화 기대하겠습니다.')\n",
            "('범죄도시', '범죄도시', '조연들이 눈에 박힌다. 간만에 집중 ㅎ')\n",
            "('코코', '코코', '대감동을 선사. 인사이드 아웃을 잇는 픽사의 감동스토리. 신과함께의 멕시코판이라고나할까요??')\n",
            "('신과함께', '신과함께', '돈이 안아까웠던 영화ᆞᆞ  정말 좋았다')\n",
            "('신과함께', '신과함께', '역시 김용화감독이 영화는 잘 만들어요. 이제 VFX 제작 부문도 헐리우드 수준 이상입니다.')\n",
            "('택시운전사', '택시운전사', '민주화를 위해 힘써주신 분들께 감사하는 마음으로 살아야겠다.')\n",
            "('신과함께', '신과함께', '잠만 자다 왔음')\n",
            "('신과함께', '신과함께', '오랜만에 잼있고 좋은 영화를 봤다')\n",
            "('범죄도시', '신과함께', '잼남')\n",
            "('범죄도시', '인피니티 워', '대박~~')\n"
          ]
        }
      ],
      "source": [
        "#----------------------------------------\n",
        "# Test set 실제 앞 10개의 리뷰에 대한 영화제목, 예측 제목, 리뷰 \n",
        "#----------------------------------------\n",
        "print('실제영화제목, 예측한 제목, 리뷰')\n",
        "for content in zip(y_test[:10], clf.predict(X_test_tfidf[:10]), X_test[:10]):\n",
        "    print(content)"
      ]
    },
    {
      "cell_type": "markdown",
      "metadata": {
        "id": "c5wni-dJRJVq"
      },
      "source": [
        "### 성능을 개선하기 위한 노력\n"
      ]
    },
    {
      "cell_type": "code",
      "execution_count": 52,
      "metadata": {
        "colab": {
          "base_uri": "https://localhost:8080/"
        },
        "id": "ixObsL1RRJVq",
        "outputId": "893d5f2f-55e4-4a96-b928-5cc77c7f03c5"
      },
      "outputs": [
        {
          "output_type": "stream",
          "name": "stdout",
          "text": [
            "#Train set score: 0.777\n",
            "#Test set score: 0.695\n"
          ]
        }
      ],
      "source": [
        "#----------------------------------------\n",
        "# 5.8.2 성능을 개선하기 위한 노력 \n",
        "# 1. 형태소 분석 \n",
        "    # 모든 품사 사용 \n",
        "    # 명사, 동사, 형용사만 선별 \n",
        "#----------------------------------------\n",
        "tfidf = TfidfVectorizer(tokenizer=okt.morphs, max_features=2000, min_df=5, max_df=0.5) # 명사 대신 모든 형태소를 사용\n",
        "X_train_tfidf = tfidf.fit_transform(X_train)\n",
        "X_test_tfidf = tfidf.transform(X_test)\n",
        "\n",
        "clf = LogisticRegression(max_iter=1000) # 충분한 학습을 위해 max_iter를 1,000으로 설정, 기본은 100\n",
        "clf.fit(X_train_tfidf, y_train)\n",
        "print('#Train set score: {:.3f}'.format(clf.score(X_train_tfidf, y_train))) # train data 예측정확도\n",
        "print('#Test set score: {:.3f}'.format(clf.score(X_test_tfidf, y_test))) # test data 예측정확도"
      ]
    },
    {
      "cell_type": "code",
      "execution_count": 53,
      "metadata": {
        "colab": {
          "base_uri": "https://localhost:8080/"
        },
        "id": "7PJtrOuhRJVr",
        "outputId": "d780d869-95a8-4c00-ac1b-b0c94e5a81df"
      },
      "outputs": [
        {
          "output_type": "stream",
          "name": "stdout",
          "text": [
            "#Train set score: 0.784\n",
            "#Test set score: 0.712\n"
          ]
        }
      ],
      "source": [
        "#----------------------------------------\n",
        "# twit_tokenizer 함수 \n",
        "    # 명사, 동사, 형용사만 선별 \n",
        "    # 해당 함수를 이용한 특성 추출 후 분류 \n",
        "#----------------------------------------\n",
        "def twit_tokenizer(text): #전체를 다 사용하는 대신, 명사, 동사, 형용사를 사용\n",
        "    target_tags = ['Noun', 'Verb', 'Adjective']\n",
        "    result = []\n",
        "    for word, tag in okt.pos(text, norm=True, stem=True):\n",
        "        if tag in target_tags:\n",
        "            result.append(word)\n",
        "    return result\n",
        "\n",
        "tfidf = TfidfVectorizer(tokenizer=twit_tokenizer, max_features=2000, min_df=5, max_df=0.5) #명사, 동사, 형용사를 이용하여 tfidf 생성\n",
        "X_train_tfidf = tfidf.fit_transform(X_train)\n",
        "X_test_tfidf = tfidf.transform(X_test)\n",
        "\n",
        "clf = LogisticRegression(max_iter=1000) # 충분한 학습을 위해 max_iter를 1,000으로 설정, 기본은 100\n",
        "clf.fit(X_train_tfidf, y_train)\n",
        "print('#Train set score: {:.3f}'.format(clf.score(X_train_tfidf, y_train))) # train data 예측정확도\n",
        "print('#Test set score: {:.3f}'.format(clf.score(X_test_tfidf, y_test))) # test data 예측정확도"
      ]
    },
    {
      "cell_type": "code",
      "execution_count": 54,
      "metadata": {
        "colab": {
          "base_uri": "https://localhost:8080/"
        },
        "id": "p29VwwKTRJVr",
        "outputId": "cdb35766-ffee-4a20-987f-18e2fe7da599"
      },
      "outputs": [
        {
          "output_type": "stream",
          "name": "stdout",
          "text": [
            "['몰입/Noun', '하다/Verb', '없다/Adjective', './Punctuation', '어렵다/Adjective', '생각/Noun', '하다/Verb', '필요없다/Adjective', './Punctuation', '내/Noun', '가/Josa', '전투/Noun', '에/Josa', '참여/Noun', '한/Determiner', '듯/Noun', '손/Noun', '에/Josa', '땀/Noun', '이남/Noun', './Punctuation']\n"
          ]
        }
      ],
      "source": [
        "#----------------------------------------\n",
        "# twit_tokenizer2 함수 \n",
        "    # 모든 품사 이용할 경우, 같은 단어가 서로 다른 품사로 사용된 경우를 구분하지 못함 \n",
        "    # 따라서, 단어에 품사명을 붙여 하나의 단어로 만듦 \n",
        "#----------------------------------------\n",
        "\n",
        "# 모든 형태소를 다 사용하고 품사를 알 수 있도록 하면?\n",
        "def twit_tokenizer2(text):\n",
        "    result = []\n",
        "    for word, tag in okt.pos(text, norm=True, stem=True):\n",
        "        result.append('/'.join([word, tag])) #단어의 품사를 구분할 수 있도록 함\n",
        "    return result\n",
        "\n",
        "print(twit_tokenizer2(X_train[1]))"
      ]
    },
    {
      "cell_type": "code",
      "execution_count": 55,
      "metadata": {
        "id": "2Y6s52xBRJVr"
      },
      "outputs": [],
      "source": [
        "#----------------------------------------\n",
        "# 명사, 동사, 형용사만 선택하고 거기에 품사를 붙여 모델 수행  \n",
        "#----------------------------------------"
      ]
    },
    {
      "cell_type": "code",
      "execution_count": 56,
      "metadata": {
        "colab": {
          "base_uri": "https://localhost:8080/"
        },
        "id": "sw1uekBMRJVs",
        "outputId": "5e6eaef9-9bea-466b-8c62-f42d3f9fb63f"
      },
      "outputs": [
        {
          "output_type": "stream",
          "name": "stdout",
          "text": [
            "#Train set score: 0.789\n",
            "#Test set score: 0.718\n"
          ]
        }
      ],
      "source": [
        "tfidf = TfidfVectorizer(tokenizer=twit_tokenizer2, max_features=2000, min_df=5, max_df=0.5)\n",
        "X_train_tfidf = tfidf.fit_transform(X_train)\n",
        "X_test_tfidf = tfidf.transform(X_test)\n",
        "\n",
        "clf = LogisticRegression(max_iter=1000) # 충분한 학습을 위해 max_iter를 1,000으로 설정, 기본은 100\n",
        "clf.fit(X_train_tfidf, y_train)\n",
        "print('#Train set score: {:.3f}'.format(clf.score(X_train_tfidf, y_train))) # train data 예측정확도\n",
        "print('#Test set score: {:.3f}'.format(clf.score(X_test_tfidf, y_test))) # test data 예측정확도"
      ]
    },
    {
      "cell_type": "code",
      "execution_count": 57,
      "metadata": {
        "colab": {
          "base_uri": "https://localhost:8080/"
        },
        "id": "f2kWF9WnRJVs",
        "outputId": "45d06bfb-0f23-4b08-f4bd-db88897bfbe4"
      },
      "outputs": [
        {
          "output_type": "stream",
          "name": "stdout",
          "text": [
            "#Max alpha 1.600 at max validation score 0.727\n"
          ]
        }
      ],
      "source": [
        "#----------------------------------------\n",
        "# 릿지 그리드 서치 , alpha 값 구함  \n",
        "#----------------------------------------\n",
        "\n",
        "import numpy as np\n",
        "from sklearn.model_selection import train_test_split\n",
        "\n",
        "X_train_ridge, X_val_ridge, y_train_ridge, y_val_ridge = train_test_split(\n",
        "    X_train_tfidf, y_train, test_size=0.2, random_state=42)\n",
        "\n",
        "max_score = 0\n",
        "max_alpha = 0\n",
        "for alpha in np.arange(0.1, 10, 0.1): # alpha를 0.1부터 10까지 0.1씩 증가\n",
        "    ridge_clf = RidgeClassifier(alpha=alpha) #릿지 분류기 선언\n",
        "    ridge_clf.fit(X_train_ridge, y_train_ridge) #학습\n",
        "    score = ridge_clf.score(X_val_ridge, y_val_ridge) #검정 데이터셋에 대해 정확도를 측정\n",
        "    if score > max_score: #정확도가 이전의 정확도 최대값보다 크면 최대값을 변경한다.\n",
        "        max_score = score\n",
        "        max_alpha = alpha\n",
        "print('#Max alpha {:.3f} at max validation score {:.3f}'.format(max_alpha, max_score))"
      ]
    },
    {
      "cell_type": "code",
      "execution_count": 58,
      "metadata": {
        "colab": {
          "base_uri": "https://localhost:8080/"
        },
        "id": "DU262wMpRJVs",
        "outputId": "41cbc9e3-101c-4265-a58c-305c2ee6d57a"
      },
      "outputs": [
        {
          "output_type": "stream",
          "name": "stdout",
          "text": [
            "#Ridge Train set score: 0.807\n",
            "#Ridge Test set score: 0.726\n",
            "#Lasso Train set score: 0.703\n",
            "#Lasso Test set score: 0.696\n",
            "#Used features count: 957 out of 2000\n"
          ]
        }
      ],
      "source": [
        "from sklearn.linear_model import RidgeClassifier\n",
        "\n",
        "# 릿지 회귀분석 \n",
        "ridge_clf = RidgeClassifier(alpha=1.6)\n",
        "ridge_clf.fit(X_train_tfidf, y_train)\n",
        "print('#Ridge Train set score: {:.3f}'.format(ridge_clf.score(X_train_tfidf, y_train)))\n",
        "print('#Ridge Test set score: {:.3f}'.format(ridge_clf.score(X_test_tfidf, y_test)))\n",
        "\n",
        "# 라쏘 회귀분석 \n",
        "from sklearn.linear_model import LogisticRegression\n",
        "import numpy as np\n",
        "lasso_clf = LogisticRegression(penalty='l1', solver='liblinear', C=0.5)\n",
        "lasso_clf.fit(X_train_tfidf, y_train)\n",
        "print('#Lasso Train set score: {:.3f}'.format(lasso_clf.score(X_train_tfidf, y_train)))\n",
        "print('#Lasso Test set score: {:.3f}'.format(lasso_clf.score(X_test_tfidf, y_test)))\n",
        "print('#Used features count: {}'.format(np.sum(lasso_clf.coef_ != 0)), 'out of', X_train_tfidf.shape[1])"
      ]
    },
    {
      "cell_type": "code",
      "execution_count": 59,
      "metadata": {
        "colab": {
          "base_uri": "https://localhost:8080/"
        },
        "id": "7Ny-7nGjRJVt",
        "outputId": "2be9694f-c060-4b66-e018-205582ec6d3a"
      },
      "outputs": [
        {
          "output_type": "stream",
          "name": "stdout",
          "text": [
            "Train set score: 0.768\n",
            "Test set score: 0.704\n"
          ]
        }
      ],
      "source": [
        "from sklearn.naive_bayes import MultinomialNB\n",
        "\n",
        "NB_clf = MultinomialNB(alpha=0.1)\n",
        "NB_clf.fit(X_train_tfidf, y_train)\n",
        "print('Train set score: {:.3f}'.format(NB_clf.score(X_train_tfidf, y_train)))\n",
        "print('Test set score: {:.3f}'.format(NB_clf.score(X_test_tfidf, y_test)))"
      ]
    }
  ],
  "metadata": {
    "kernelspec": {
      "display_name": "Python 3 (ipykernel)",
      "language": "python",
      "name": "python3"
    },
    "language_info": {
      "codemirror_mode": {
        "name": "ipython",
        "version": 3
      },
      "file_extension": ".py",
      "mimetype": "text/x-python",
      "name": "python",
      "nbconvert_exporter": "python",
      "pygments_lexer": "ipython3",
      "version": "3.9.12"
    },
    "toc": {
      "base_numbering": 1,
      "nav_menu": {},
      "number_sections": true,
      "sideBar": true,
      "skip_h1_title": false,
      "title_cell": "Table of Contents",
      "title_sidebar": "Contents",
      "toc_cell": true,
      "toc_position": {
        "height": "calc(100% - 180px)",
        "left": "10px",
        "top": "150px",
        "width": "165px"
      },
      "toc_section_display": true,
      "toc_window_display": true
    },
    "varInspector": {
      "cols": {
        "lenName": 16,
        "lenType": 16,
        "lenVar": 40
      },
      "kernels_config": {
        "python": {
          "delete_cmd_postfix": "",
          "delete_cmd_prefix": "del ",
          "library": "var_list.py",
          "varRefreshCmd": "print(var_dic_list())"
        },
        "r": {
          "delete_cmd_postfix": ") ",
          "delete_cmd_prefix": "rm(",
          "library": "var_list.r",
          "varRefreshCmd": "cat(var_dic_list()) "
        }
      },
      "types_to_exclude": [
        "module",
        "function",
        "builtin_function_or_method",
        "instance",
        "_Feature"
      ],
      "window_display": false
    },
    "colab": {
      "name": "2부_BOW 기반의 텍스트 마이닝_Chapter5. BOW 기반의 문서분류.ipynb",
      "provenance": [],
      "machine_shape": "hm"
    },
    "accelerator": "GPU"
  },
  "nbformat": 4,
  "nbformat_minor": 0
}